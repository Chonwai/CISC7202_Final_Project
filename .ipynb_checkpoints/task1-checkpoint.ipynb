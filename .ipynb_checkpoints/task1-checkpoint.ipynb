{
 "cells": [
  {
   "cell_type": "markdown",
   "metadata": {},
   "source": [
    "<h1>Task I Text Classification</h1>\n",
    "<h3>The traget of text classification task</h3>\n",
    "\n",
    "<pre>The most representative task is to classify text data, e.g., documents, comments and literatures.</pre>\n",
    "\n",
    "<img src='https://monkeylearn.com/static/img/text-classification/Text-classification-model@2x.png'>"
   ]
  },
  {
   "cell_type": "markdown",
   "metadata": {},
   "source": [
    "<h3>1. Preparing environments</h3>\n",
    "\n",
    "<pre>Before import you should install these libraries by pip command.</pre>"
   ]
  },
  {
   "cell_type": "code",
   "execution_count": 9,
   "metadata": {},
   "outputs": [],
   "source": [
    "import numpy as np\n",
    "import pandas as pd\n",
    "\n",
    "import json\n",
    "import requests\n",
    "import pickle\n",
    "\n",
    "import sklearn\n",
    "from sklearn.datasets import fetch_20newsgroups\n",
    "from sklearn.model_selection import train_test_split\n",
    "\n",
    "from sklearn.feature_extraction.text import TfidfVectorizer"
   ]
  },
  {
   "cell_type": "markdown",
   "metadata": {},
   "source": [
    "<h3>2. Clean data (Optional)</h3>\n",
    "\n",
    "<pre>You should ignore those spectial cases which are useless even harmful to the training process.</pre>"
   ]
  },
  {
   "cell_type": "code",
   "execution_count": 10,
   "metadata": {},
   "outputs": [],
   "source": [
    "def clean_line(t):\n",
    "    return (t.replace('\\n',' ')\n",
    "            .replace('\\r',' ')\n",
    "            .replace('\\t',' ')\n",
    "            .replace('  ',' ')\n",
    "            .strip())"
   ]
  },
  {
   "cell_type": "markdown",
   "metadata": {},
   "source": [
    "<h3>3. Load Data</h3>\n",
    "\n",
    "<pre>In this step, you should transform text data to vectors that can be processed by machine learning models.</pre>\n",
    "<img src='https://monkeylearn.com/static/img/text-classification/text_process_training.png'>\n",
    "<pre>One classical approach is TF-IDF. The details of this method can be found at <a href=\"https://scikit-learn.org/stable/modules/generated/sklearn.feature_extraction.text.TfidfTransformer.html\">TF-IDF</a>. Even though you are not familiar with this method you can easily use the API provided by Scikit-learn.</pre>\n",
    "<pre>Please finish the codes below.</pre>"
   ]
  },
  {
   "cell_type": "code",
   "execution_count": 11,
   "metadata": {},
   "outputs": [],
   "source": [
    "def load_and_process_data():\n",
    "    #only use text data longer than 50\n",
    "    min_len = 50\n",
    "\n",
    "    all_data = fetch_20newsgroups(subset='all',remove=('headers', 'footers', 'quotes'))\n",
    "    \n",
    "    #clean data\n",
    "    all_text = [clean_line(t) for t in all_data.data]\n",
    "    all_data_df = pd.DataFrame({'text' : all_text, 'topics' : all_data.target})\n",
    "    \n",
    "    cleaned_df = all_data_df[all_data_df.text.str.len() > min_len]\n",
    "    \n",
    "    X_raw = cleaned_df['text'].values\n",
    "    y_raw = cleaned_df['topics'].values\n",
    "    \n",
    "    #split the data with test_size=0.20 and random_state = 42\n",
    "    #your codes are here\n",
    "    X_train_raw, X_test_raw, y_train, y_test = train_test_split(X_raw, y_raw, test_size=0.20, random_state=42)\n",
    "    #end\n",
    "    \n",
    "    #tranform data to vectors using tf-idf approach\n",
    "    #your codes are here\n",
    "    tfidf = TfidfVectorizer()\n",
    "    X_train_tfidf = TfidfVectorizer(X_train_raw)\n",
    "    X_test_tfidf = TfidfVectorizer(X_test_raw)\n",
    "    #end\n",
    "    \n",
    "    return X_train_tfidf, X_test_tfidf, y_train, y_test"
   ]
  },
  {
   "cell_type": "code",
   "execution_count": 12,
   "metadata": {},
   "outputs": [],
   "source": [
    "X_train, X_test, y_train, y_test = load_and_process_data()"
   ]
  },
  {
   "cell_type": "markdown",
   "metadata": {},
   "source": [
    "<h3>4. Training and Prediction</h3>\n",
    "<img src=\"https://monkeylearn.com/static/img/text-classification/text_process_prediction.png\">\n",
    "<pre>In this step you are asked to use three traditional machine learning methods (Support Vector Machines, Random Forest and K-nearest Neighbors) to finish this text classification task.</pre>"
   ]
  },
  {
   "cell_type": "markdown",
   "metadata": {},
   "source": [
    "<pre>a. SVM</pre>\n",
    "<pre>Please finish the code below</pre>"
   ]
  },
  {
   "cell_type": "code",
   "execution_count": 16,
   "metadata": {},
   "outputs": [
    {
     "ename": "TypeError",
     "evalue": "fit() missing 1 required positional argument: 'y'",
     "output_type": "error",
     "traceback": [
      "\u001b[0;31m---------------------------------------------------------------------------\u001b[0m",
      "\u001b[0;31mTypeError\u001b[0m                                 Traceback (most recent call last)",
      "\u001b[0;32m<ipython-input-16-f190bec492c6>\u001b[0m in \u001b[0;36m<module>\u001b[0;34m\u001b[0m\n\u001b[1;32m      5\u001b[0m \u001b[0;31m#your codes are here\u001b[0m\u001b[0;34m\u001b[0m\u001b[0;34m\u001b[0m\u001b[0;34m\u001b[0m\u001b[0m\n\u001b[1;32m      6\u001b[0m \u001b[0;34m\u001b[0m\u001b[0m\n\u001b[0;32m----> 7\u001b[0;31m \u001b[0my\u001b[0m \u001b[0;34m=\u001b[0m \u001b[0msgd_clf\u001b[0m\u001b[0;34m.\u001b[0m\u001b[0mfit\u001b[0m\u001b[0;34m(\u001b[0m\u001b[0mX_train\u001b[0m\u001b[0;34m)\u001b[0m\u001b[0;34m\u001b[0m\u001b[0;34m\u001b[0m\u001b[0m\n\u001b[0m\u001b[1;32m      8\u001b[0m \u001b[0;34m\u001b[0m\u001b[0m\n\u001b[1;32m      9\u001b[0m \u001b[0;34m\u001b[0m\u001b[0m\n",
      "\u001b[0;31mTypeError\u001b[0m: fit() missing 1 required positional argument: 'y'"
     ]
    }
   ],
   "source": [
    "from sklearn.linear_model import SGDClassifier\n",
    "\n",
    "sgd_clf = SGDClassifier()\n",
    "#train the model and predict test data\n",
    "#your codes are here\n",
    "\n",
    "sgd_clf.fit(X_train, y_train)\n",
    "\n",
    "\n",
    "#end\n",
    "np.mean(sgd_clf.predict(X_test) == y_test)"
   ]
  },
  {
   "cell_type": "markdown",
   "metadata": {},
   "source": [
    "<pre>b. Random Forest</pre>\n",
    "<pre>Please finish the code below</pre>"
   ]
  },
  {
   "cell_type": "code",
   "execution_count": null,
   "metadata": {},
   "outputs": [],
   "source": [
    "from sklearn.ensemble import RandomForestClassifier\n",
    "\n",
    "rf_clf = RandomForestClassifier()\n",
    "#train the model and predict test data\n",
    "#your codes are here\n",
    "\n",
    "\n",
    "#end\n",
    "np.mean(predicted == y_test)"
   ]
  },
  {
   "cell_type": "markdown",
   "metadata": {},
   "source": [
    "<pre>c. K-Nearest Neighbors</pre>\n",
    "<pre>Please finish the code below</pre>"
   ]
  },
  {
   "cell_type": "code",
   "execution_count": null,
   "metadata": {},
   "outputs": [],
   "source": [
    "from sklearn.neighbors import KNeighborsClassifier\n",
    "\n",
    "kn_clf = KNeighborsClassifier()\n",
    "#train the model and predict test data\n",
    "#your codes are here\n",
    "\n",
    "\n",
    "#end\n",
    "np.mean(predicted == y_test)"
   ]
  },
  {
   "cell_type": "markdown",
   "metadata": {},
   "source": [
    "<h3>5. Conclusion</h3>\n",
    "<pre>Please rank these three models by their accuracy on test data.</pre>"
   ]
  },
  {
   "cell_type": "markdown",
   "metadata": {},
   "source": [
    "<pre>\n",
    "Accuracy on test data trained by the same data.\n",
    "? > ? > ?\n",
    "</pre>"
   ]
  }
 ],
 "metadata": {
  "kernelspec": {
   "display_name": "Python 3",
   "language": "python",
   "name": "python3"
  },
  "language_info": {
   "codemirror_mode": {
    "name": "ipython",
    "version": 3
   },
   "file_extension": ".py",
   "mimetype": "text/x-python",
   "name": "python",
   "nbconvert_exporter": "python",
   "pygments_lexer": "ipython3",
   "version": "3.7.7"
  }
 },
 "nbformat": 4,
 "nbformat_minor": 4
}
