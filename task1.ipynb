{
 "cells": [
  {
   "cell_type": "markdown",
   "metadata": {},
   "source": [
    "<h1>Task I Text Classification</h1>\n",
    "<h3>The traget of text classification task</h3>\n",
    "\n",
    "<pre>The most representative task is to classify text data, e.g., documents, comments and literatures.</pre>\n",
    "\n",
    "<img src='https://monkeylearn.com/static/img/text-classification/Text-classification-model@2x.png'>"
   ]
  },
  {
   "cell_type": "markdown",
   "metadata": {},
   "source": [
    "<h3>1. Preparing environments</h3>\n",
    "\n",
    "<pre>Before import you should install these libraries by pip command.</pre>"
   ]
  },
  {
   "cell_type": "code",
   "execution_count": 1,
   "metadata": {},
   "outputs": [],
   "source": [
    "import numpy as np\n",
    "import pandas as pd\n",
    "import json\n",
    "import requests\n",
    "import pickle\n",
    "import sklearn\n",
    "from sklearn.datasets import fetch_20newsgroups\n",
    "from sklearn.model_selection import train_test_split\n",
    "from sklearn.linear_model import SGDClassifier\n",
    "from sklearn.ensemble import RandomForestClassifier\n",
    "from sklearn.feature_extraction.text import TfidfVectorizer\n",
    "from sklearn.neighbors import KNeighborsClassifier"
   ]
  },
  {
   "cell_type": "markdown",
   "metadata": {},
   "source": [
    "<h3>2. Clean data (Optional)</h3>\n",
    "\n",
    "<pre>You should ignore those spectial cases which are useless even harmful to the training process.</pre>"
   ]
  },
  {
   "cell_type": "code",
   "execution_count": 2,
   "metadata": {},
   "outputs": [],
   "source": [
    "def clean_line(t):\n",
    "    return (t.replace('\\n', ' ')\n",
    "            .replace('\\r', ' ')\n",
    "            .replace('\\t', ' ')\n",
    "            .replace('  ', ' ')\n",
    "            .strip())"
   ]
  },
  {
   "cell_type": "markdown",
   "metadata": {},
   "source": [
    "<h3>3. Load Data</h3>\n",
    "\n",
    "<pre>In this step, you should transform text data to vectors that can be processed by machine learning models.</pre>\n",
    "<img src='https://monkeylearn.com/static/img/text-classification/text_process_training.png'>\n",
    "<pre>One classical approach is TF-IDF. The details of this method can be found at <a href=\"https://scikit-learn.org/stable/modules/generated/sklearn.feature_extraction.text.TfidfTransformer.html\">TF-IDF</a>. Even though you are not familiar with this method you can easily use the API provided by Scikit-learn.</pre>\n",
    "<pre>Please finish the codes below.</pre>"
   ]
  },
  {
   "cell_type": "code",
   "execution_count": 3,
   "metadata": {},
   "outputs": [],
   "source": [
    "def load_and_process_data():\n",
    "    # only use text data longer than 50\n",
    "    min_len = 50\n",
    "\n",
    "    all_data = fetch_20newsgroups(\n",
    "        subset='all', remove=('headers', 'footers', 'quotes'))\n",
    "\n",
    "    # clean data\n",
    "    all_text = [clean_line(t) for t in all_data.data]\n",
    "    all_data_df = pd.DataFrame({'text': all_text, 'topics': all_data.target})\n",
    "\n",
    "    cleaned_df = all_data_df[all_data_df.text.str.len() > min_len]\n",
    "\n",
    "    X_raw = cleaned_df['text'].values\n",
    "    y_raw = cleaned_df['topics'].values\n",
    "\n",
    "    # split the data with test_size=0.20 and random_state = 42\n",
    "    # your codes are here\n",
    "    X_train_raw, X_test_raw, y_train, y_test = train_test_split(\n",
    "        X_raw, y_raw, test_size=0.20, random_state=42)\n",
    "    # end\n",
    "\n",
    "    # tranform data to vectors using tf-idf approach\n",
    "    # your codes are here\n",
    "    tfidf = TfidfVectorizer()\n",
    "    X_train_tfidf = tfidf.fit_transform(X_train_raw)\n",
    "    X_test_tfidf = tfidf.transform(X_test_raw)\n",
    "    # end\n",
    "\n",
    "    return X_train_tfidf, X_test_tfidf, y_train, y_test"
   ]
  },
  {
   "cell_type": "code",
   "execution_count": 4,
   "metadata": {},
   "outputs": [],
   "source": [
    "X_train, X_test, y_train, y_test = load_and_process_data()"
   ]
  },
  {
   "cell_type": "markdown",
   "metadata": {},
   "source": [
    "<h3>4. Training and Prediction</h3>\n",
    "<img src=\"https://monkeylearn.com/static/img/text-classification/text_process_prediction.png\">\n",
    "<pre>In this step you are asked to use three traditional machine learning methods (Support Vector Machines, Random Forest and K-nearest Neighbors) to finish this text classification task.</pre>"
   ]
  },
  {
   "cell_type": "markdown",
   "metadata": {},
   "source": [
    "<pre>a. SVM</pre>\n",
    "<pre>Please finish the code below</pre>"
   ]
  },
  {
   "cell_type": "code",
   "execution_count": 7,
   "metadata": {},
   "outputs": [],
   "source": [
    "def trainSVM(X_train, X_test, y_train, y_test, cpu=1):\n",
    "    sgd_clf = SGDClassifier(n_jobs=cpu)\n",
    "    sgd_clf.fit(X_train, y_train)\n",
    "    predicted = sgd_clf.predict(X_test)\n",
    "    mean = np.mean(predicted == y_test)\n",
    "    print(\"The Result of SVM is: \" + str(mean))"
   ]
  },
  {
   "cell_type": "markdown",
   "metadata": {},
   "source": [
    "<pre>b. Random Forest</pre>\n",
    "<pre>Please finish the code below</pre>"
   ]
  },
  {
   "cell_type": "code",
   "execution_count": 8,
   "metadata": {},
   "outputs": [],
   "source": [
    "def trainRF(X_train, X_test, y_train, y_test, trees=100, cpu=1):\n",
    "    rf_clf = RandomForestClassifier(n_estimators=trees, n_jobs=cpu)\n",
    "    rf_clf.fit(X_train, y_train)\n",
    "    predicted = rf_clf.predict(X_test)\n",
    "    mean = np.mean(predicted == y_test)\n",
    "    print(\"The Result of Random Forest is: \" + str(mean))"
   ]
  },
  {
   "cell_type": "markdown",
   "metadata": {},
   "source": [
    "<pre>c. K-Nearest Neighbors</pre>\n",
    "<pre>Please finish the code below</pre>"
   ]
  },
  {
   "cell_type": "code",
   "execution_count": 9,
   "metadata": {},
   "outputs": [],
   "source": [
    "def trainKNN(X_train, X_test, y_train, y_test, cpu=1, n_neighbors=5):\n",
    "    kn_clf = KNeighborsClassifier(n_jobs=cpu, n_neighbors=n_neighbors)\n",
    "    kn_clf.fit(X_train, y_train)\n",
    "    predicted = kn_clf.predict(X_test)\n",
    "    mean = np.mean(predicted == y_test)\n",
    "    print(\"The Result of K-Nearest Neighbors is: \" + str(mean))"
   ]
  },
  {
   "cell_type": "markdown",
   "metadata": {},
   "source": [
    "<h3>5. Conclusion</h3>\n",
    "<pre>Please rank these three models by their accuracy on test data.</pre>"
   ]
  },
  {
   "cell_type": "code",
   "execution_count": 10,
   "metadata": {},
   "outputs": [
    {
     "output_type": "stream",
     "name": "stdout",
     "text": "Before Tuning the Parameters: \nThe Result of SVM is: 0.7857941834451901\nThe Result of Random Forest is: 0.6700223713646533\nThe Result of K-Nearest Neighbors is: 0.5369127516778524\nSVM > Random Forest > KNN\nAfter Tuning the Parameters: \nThe Result of SVM is: 0.7869127516778524\nThe Result of Random Forest is: 0.7038590604026845\nThe Result of K-Nearest Neighbors is: 0.6219239373601789\nAfter tuning the parameters. Random Forest's accuracy increase 5~6% and KNN's accuracy increase up to 9%\n\nSVM > Random Forest > KNN\n"
    }
   ],
   "source": [
    "def main():\n",
    "    X_train, X_test, y_train, y_test = load_and_process_data()\n",
    "    print(\"Before Tuning the Parameters: \")\n",
    "    trainSVM(X_train, X_test, y_train, y_test)\n",
    "    trainRF(X_train, X_test, y_train, y_test)\n",
    "    trainKNN(X_train, X_test, y_train, y_test)\n",
    "    print(\"SVM > Random Forest > KNN\")\n",
    "    print(\"After Tuning the Parameters: \")\n",
    "    trainSVM(X_train, X_test, y_train, y_test, -1)\n",
    "    trainRF(X_train, X_test, y_train, y_test, 1000, -1)\n",
    "    trainKNN(X_train, X_test, y_train, y_test, -1, 20)\n",
    "    print(\"After tuning the parameters. Random Forest's accuracy increase 5~6% and KNN's accuracy increase up to 9%\\n\")\n",
    "    print(\"SVM > Random Forest > KNN\")\n",
    "\n",
    "\n",
    "main()"
   ]
  },
  {
   "cell_type": "markdown",
   "metadata": {},
   "source": [
    "<pre>\n",
    "Accuracy on test data trained by the same data.\n",
    "SVM > Random Forest > KNN\n",
    "</pre>"
   ]
  }
 ],
 "metadata": {
  "kernelspec": {
   "display_name": "Python 3",
   "language": "python",
   "name": "python3"
  },
  "language_info": {
   "codemirror_mode": {
    "name": "ipython",
    "version": 3
   },
   "file_extension": ".py",
   "mimetype": "text/x-python",
   "name": "python",
   "nbconvert_exporter": "python",
   "pygments_lexer": "ipython3",
   "version": "3.7.7-final"
  }
 },
 "nbformat": 4,
 "nbformat_minor": 4
}